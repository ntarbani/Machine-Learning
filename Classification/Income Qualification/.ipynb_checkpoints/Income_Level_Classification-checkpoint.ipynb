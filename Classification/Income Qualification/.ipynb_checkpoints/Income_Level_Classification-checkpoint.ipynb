{
 "cells": [
  {
   "cell_type": "code",
   "execution_count": 1,
   "id": "fb3bf79b",
   "metadata": {},
   "outputs": [],
   "source": [
    "import warnings\n",
    "warnings.filterwarnings('ignore')\n",
    "import numpy as np\n",
    "import pandas as pd\n",
    "import matplotlib.pyplot as plt\n",
    "import seaborn as sns\n",
    "%matplotlib inline\n",
    "from sklearn.linear_model import LogisticRegression\n",
    "from sklearn.model_selection import GridSearchCV,KFold,train_test_split,cross_val_score\n",
    "from sklearn.tree import DecisionTreeClassifier\n",
    "from sklearn.ensemble import RandomForestClassifier,BaggingClassifier,AdaBoostClassifier\n",
    "from sklearn.neighbors import KNeighborsClassifier\n",
    "from sklearn.naive_bayes import GaussianNB\n",
    "import statsmodels.api as sm\n",
    "from sklearn.metrics import confusion_matrix,classification_report"
   ]
  },
  {
   "cell_type": "code",
   "execution_count": 2,
   "id": "0e010b23",
   "metadata": {},
   "outputs": [],
   "source": [
    "data=pd.read_csv('data1.csv')"
   ]
  },
  {
   "cell_type": "code",
   "execution_count": 3,
   "id": "01a5f6c8",
   "metadata": {},
   "outputs": [
    {
     "name": "stdout",
     "output_type": "stream",
     "text": [
      "<class 'pandas.core.frame.DataFrame'>\n",
      "RangeIndex: 9557 entries, 0 to 9556\n",
      "Columns: 143 entries, Id to Target\n",
      "dtypes: float64(8), int64(130), object(5)\n",
      "memory usage: 10.4+ MB\n"
     ]
    }
   ],
   "source": [
    "data.info()"
   ]
  },
  {
   "cell_type": "code",
   "execution_count": 4,
   "id": "148b50a8",
   "metadata": {},
   "outputs": [
    {
     "data": {
      "text/plain": [
       "Index(['Id', 'v2a1', 'hacdor', 'rooms', 'hacapo', 'v14a', 'refrig', 'v18q',\n",
       "       'v18q1', 'r4h1',\n",
       "       ...\n",
       "       'SQBescolari', 'SQBage', 'SQBhogar_total', 'SQBedjefe', 'SQBhogar_nin',\n",
       "       'SQBovercrowding', 'SQBdependency', 'SQBmeaned', 'agesq', 'Target'],\n",
       "      dtype='object', length=143)"
      ]
     },
     "execution_count": 4,
     "metadata": {},
     "output_type": "execute_result"
    }
   ],
   "source": [
    "data.columns"
   ]
  },
  {
   "cell_type": "code",
   "execution_count": 5,
   "id": "d73bf6c1",
   "metadata": {},
   "outputs": [
    {
     "data": {
      "text/plain": [
       "Id                    0\n",
       "v2a1               6860\n",
       "hacdor                0\n",
       "rooms                 0\n",
       "hacapo                0\n",
       "v14a                  0\n",
       "refrig                0\n",
       "v18q                  0\n",
       "v18q1              7342\n",
       "r4h1                  0\n",
       "r4h2                  0\n",
       "r4h3                  0\n",
       "r4m1                  0\n",
       "r4m2                  0\n",
       "r4m3                  0\n",
       "r4t1                  0\n",
       "r4t2                  0\n",
       "r4t3                  0\n",
       "tamhog                0\n",
       "tamviv                0\n",
       "escolari              0\n",
       "rez_esc            7928\n",
       "hhsize                0\n",
       "paredblolad           0\n",
       "paredzocalo           0\n",
       "paredpreb             0\n",
       "pareddes              0\n",
       "paredmad              0\n",
       "paredzinc             0\n",
       "paredfibras           0\n",
       "paredother            0\n",
       "pisomoscer            0\n",
       "pisocemento           0\n",
       "pisoother             0\n",
       "pisonatur             0\n",
       "pisonotiene           0\n",
       "pisomadera            0\n",
       "techozinc             0\n",
       "techoentrepiso        0\n",
       "techocane             0\n",
       "techootro             0\n",
       "cielorazo             0\n",
       "abastaguadentro       0\n",
       "abastaguafuera        0\n",
       "abastaguano           0\n",
       "public                0\n",
       "planpri               0\n",
       "noelec                0\n",
       "coopele               0\n",
       "sanitario1            0\n",
       "sanitario2            0\n",
       "sanitario3            0\n",
       "sanitario5            0\n",
       "sanitario6            0\n",
       "energcocinar1         0\n",
       "energcocinar2         0\n",
       "energcocinar3         0\n",
       "energcocinar4         0\n",
       "elimbasu1             0\n",
       "elimbasu2             0\n",
       "elimbasu3             0\n",
       "elimbasu4             0\n",
       "elimbasu5             0\n",
       "elimbasu6             0\n",
       "epared1               0\n",
       "epared2               0\n",
       "epared3               0\n",
       "etecho1               0\n",
       "etecho2               0\n",
       "etecho3               0\n",
       "eviv1                 0\n",
       "eviv2                 0\n",
       "eviv3                 0\n",
       "dis                   0\n",
       "male                  0\n",
       "female                0\n",
       "estadocivil1          0\n",
       "estadocivil2          0\n",
       "estadocivil3          0\n",
       "estadocivil4          0\n",
       "estadocivil5          0\n",
       "estadocivil6          0\n",
       "estadocivil7          0\n",
       "parentesco1           0\n",
       "parentesco2           0\n",
       "parentesco3           0\n",
       "parentesco4           0\n",
       "parentesco5           0\n",
       "parentesco6           0\n",
       "parentesco7           0\n",
       "parentesco8           0\n",
       "parentesco9           0\n",
       "parentesco10          0\n",
       "parentesco11          0\n",
       "parentesco12          0\n",
       "idhogar               0\n",
       "hogar_nin             0\n",
       "hogar_adul            0\n",
       "hogar_mayor           0\n",
       "hogar_total           0\n",
       "dependency            0\n",
       "edjefe                0\n",
       "edjefa                0\n",
       "meaneduc              5\n",
       "instlevel1            0\n",
       "instlevel2            0\n",
       "instlevel3            0\n",
       "instlevel4            0\n",
       "instlevel5            0\n",
       "instlevel6            0\n",
       "instlevel7            0\n",
       "instlevel8            0\n",
       "instlevel9            0\n",
       "bedrooms              0\n",
       "overcrowding          0\n",
       "tipovivi1             0\n",
       "tipovivi2             0\n",
       "tipovivi3             0\n",
       "tipovivi4             0\n",
       "tipovivi5             0\n",
       "computer              0\n",
       "television            0\n",
       "mobilephone           0\n",
       "qmobilephone          0\n",
       "lugar1                0\n",
       "lugar2                0\n",
       "lugar3                0\n",
       "lugar4                0\n",
       "lugar5                0\n",
       "lugar6                0\n",
       "area1                 0\n",
       "area2                 0\n",
       "age                   0\n",
       "SQBescolari           0\n",
       "SQBage                0\n",
       "SQBhogar_total        0\n",
       "SQBedjefe             0\n",
       "SQBhogar_nin          0\n",
       "SQBovercrowding       0\n",
       "SQBdependency         0\n",
       "SQBmeaned             5\n",
       "agesq                 0\n",
       "Target                0\n",
       "dtype: int64"
      ]
     },
     "execution_count": 5,
     "metadata": {},
     "output_type": "execute_result"
    }
   ],
   "source": [
    "pd.set_option('display.max_rows',None)\n",
    "data.isnull().sum()"
   ]
  },
  {
   "cell_type": "code",
   "execution_count": 6,
   "id": "3ab48c2b",
   "metadata": {},
   "outputs": [],
   "source": [
    "data.drop(['Id','v2a1','v18q1','rez_esc'],axis=1,inplace=True)"
   ]
  },
  {
   "cell_type": "code",
   "execution_count": 7,
   "id": "4acde509",
   "metadata": {},
   "outputs": [
    {
     "name": "stdout",
     "output_type": "stream",
     "text": [
      "<class 'pandas.core.frame.DataFrame'>\n",
      "RangeIndex: 9557 entries, 0 to 9556\n",
      "Columns: 139 entries, hacdor to Target\n",
      "dtypes: float64(5), int64(130), object(4)\n",
      "memory usage: 10.1+ MB\n"
     ]
    }
   ],
   "source": [
    "data.info()"
   ]
  },
  {
   "cell_type": "code",
   "execution_count": 8,
   "id": "f6c4c23e",
   "metadata": {},
   "outputs": [],
   "source": [
    "data.dropna(inplace=True)"
   ]
  },
  {
   "cell_type": "code",
   "execution_count": 9,
   "id": "04254968",
   "metadata": {},
   "outputs": [],
   "source": [
    "data['edjefe']=np.where(data['edjefe']=='yes',1,data['edjefe'])"
   ]
  },
  {
   "cell_type": "code",
   "execution_count": 10,
   "id": "1b143968",
   "metadata": {},
   "outputs": [],
   "source": [
    "data['edjefe']=np.where(data['edjefe']=='no',0,data['edjefe'])"
   ]
  },
  {
   "cell_type": "code",
   "execution_count": 11,
   "id": "8883fb7b",
   "metadata": {},
   "outputs": [],
   "source": [
    "data['edjefa']=np.where(data['edjefa']=='yes',1,data['edjefa'])\n",
    "data['edjefa']=np.where(data['edjefa']=='no',0,data['edjefa'])"
   ]
  },
  {
   "cell_type": "code",
   "execution_count": 12,
   "id": "343eb96d",
   "metadata": {},
   "outputs": [],
   "source": [
    "data['dependency']=np.where(data['dependency']=='yes',1,data['dependency'])\n",
    "data['dependency']=np.where(data['dependency']=='no',0,data['dependency'])"
   ]
  },
  {
   "cell_type": "code",
   "execution_count": 13,
   "id": "0f523504",
   "metadata": {},
   "outputs": [],
   "source": [
    "data.drop('female',axis=1,inplace=True)"
   ]
  },
  {
   "cell_type": "code",
   "execution_count": 14,
   "id": "8b2e2393",
   "metadata": {},
   "outputs": [],
   "source": [
    "from sklearn.preprocessing import LabelEncoder\n",
    "Le=LabelEncoder()\n",
    "data['idhogar']=Le.fit_transform(data['idhogar'])"
   ]
  },
  {
   "cell_type": "code",
   "execution_count": 15,
   "id": "b7bcc9b0",
   "metadata": {},
   "outputs": [],
   "source": [
    "X=data.drop('Target',axis=1)\n",
    "y=data.Target"
   ]
  },
  {
   "cell_type": "code",
   "execution_count": 16,
   "id": "d4736ccc",
   "metadata": {},
   "outputs": [],
   "source": [
    "from sklearn.preprocessing import StandardScaler"
   ]
  },
  {
   "cell_type": "code",
   "execution_count": 17,
   "id": "4466b4fb",
   "metadata": {},
   "outputs": [],
   "source": [
    "sc=StandardScaler()\n",
    "X=sc.fit_transform(X)"
   ]
  },
  {
   "cell_type": "code",
   "execution_count": 18,
   "id": "b16c06fa",
   "metadata": {},
   "outputs": [],
   "source": [
    "x_train,x_test,y_train,y_test=train_test_split(X,y,test_size=0.3,random_state=1)"
   ]
  },
  {
   "cell_type": "code",
   "execution_count": 19,
   "id": "28fdf41d",
   "metadata": {},
   "outputs": [],
   "source": [
    "param={'n_neighbors':[1,202,402],'weights':['uniform','distance']}\n",
    "grid=GridSearchCV(estimator=KNeighborsClassifier(),param_grid=param,cv=15)"
   ]
  },
  {
   "cell_type": "code",
   "execution_count": 20,
   "id": "cc995f17",
   "metadata": {},
   "outputs": [
    {
     "data": {
      "text/plain": [
       "GridSearchCV(cv=15, estimator=KNeighborsClassifier(),\n",
       "             param_grid={'n_neighbors': [1, 202, 402],\n",
       "                         'weights': ['uniform', 'distance']})"
      ]
     },
     "execution_count": 20,
     "metadata": {},
     "output_type": "execute_result"
    }
   ],
   "source": [
    "grid.fit(x_train,y_train)"
   ]
  },
  {
   "cell_type": "code",
   "execution_count": 21,
   "id": "3b0fd022",
   "metadata": {},
   "outputs": [
    {
     "data": {
      "text/plain": [
       "KNeighborsClassifier(n_neighbors=1)"
      ]
     },
     "execution_count": 21,
     "metadata": {},
     "output_type": "execute_result"
    }
   ],
   "source": [
    "grid.best_estimator_"
   ]
  },
  {
   "cell_type": "code",
   "execution_count": 23,
   "id": "3e7da8d2",
   "metadata": {},
   "outputs": [],
   "source": [
    "LR=LogisticRegression()\n",
    "NB=GaussianNB()\n",
    "KNN=KNeighborsClassifier(n_neighbors=1)\n",
    "RF=RandomForestClassifier(criterion='gini',random_state=1,n_estimators=10)\n",
    "DTC=DecisionTreeClassifier(criterion='gini',random_state=1)\n",
    "boost_LR=AdaBoostClassifier(base_estimator=LR,n_estimators=50)\n",
    "boost_NB=AdaBoostClassifier(base_estimator=NB,n_estimators=50)\n",
    "boost_DTC=AdaBoostClassifier(base_estimator=DTC,n_estimators=50)\n",
    "boost_RF=AdaBoostClassifier(base_estimator=RF,n_estimators=50)"
   ]
  },
  {
   "cell_type": "code",
   "execution_count": 24,
   "id": "f77e7ba3",
   "metadata": {},
   "outputs": [],
   "source": [
    "models=[]\n",
    "models.append(('KNN',KNN))\n",
    "models.append(('LR',LR))\n",
    "models.append(('NB',NB))\n",
    "models.append(('RF',RF))\n",
    "models.append(('DTC',DTC))\n",
    "models.append(('bag_LR',bag_LR))\n",
    "models.append(('bag_NB',bag_NB))\n",
    "models.append(('bag_DTC',bag_DTC))\n",
    "models.append(('bag_KNN',bag_KNN))"
   ]
  },
  {
   "cell_type": "code",
   "execution_count": 25,
   "id": "f81eda5d",
   "metadata": {},
   "outputs": [
    {
     "name": "stdout",
     "output_type": "stream",
     "text": [
      "KNN : [0.7963993  0.83935966 0.83822152 0.83207142 0.8295982  0.80260536\n",
      " 0.81684085 0.8245612  0.83839316 0.82367015]\n",
      "LR : [0.61297111 0.63010078 0.62905229 0.64347032 0.65581248 0.61321972\n",
      " 0.61294697 0.64074379 0.64760189 0.66898448]\n",
      "NB : [0.11637509 0.10864741 0.12545787 0.10985369 0.12187738 0.11477825\n",
      " 0.15087555 0.1369084  0.10806798 0.12593196]\n",
      "RF : [0.85927843 0.86693335 0.86298574 0.86353585 0.87340299 0.85102111\n",
      " 0.85239907 0.85922427 0.85316816 0.86103642]\n",
      "DTC : [0.89476709 0.90307649 0.86344512 0.91739612 0.8750887  0.87287352\n",
      " 0.88626072 0.89598578 0.88723854 0.90009746]\n",
      "bag_LR : [0.61369774 0.63551141 0.61855529 0.65150823 0.66239271 0.61606259\n",
      " 0.61649305 0.63812409 0.65197767 0.66620674]\n",
      "bag_NB : [0.11447714 0.09536586 0.10796053 0.08496196 0.10291405 0.11454765\n",
      " 0.11778371 0.11323815 0.09748694 0.12117881]\n",
      "bag_DTC : [0.89567626 0.91186426 0.89743774 0.92879966 0.90117303 0.88955434\n",
      " 0.90639084 0.90391141 0.89333744 0.91909219]\n",
      "bag_KNN : [0.7979677  0.81553794 0.82241068 0.82835814 0.82768904 0.78983797\n",
      " 0.81005984 0.81409503 0.83402684 0.81751425]\n"
     ]
    }
   ],
   "source": [
    "results=[]\n",
    "names=[]\n",
    "kfold=KFold(n_splits=10,shuffle=True,random_state=0,)\n",
    "for name,model  in models:\n",
    "    cv_result=cross_val_score(model,x_train,y_train,cv=kfold,scoring='f1_weighted')\n",
    "    results.append(cv_result)\n",
    "    names.append(name)\n",
    "    print(name,':',cv_result)"
   ]
  },
  {
   "cell_type": "code",
   "execution_count": 26,
   "id": "691c89a2",
   "metadata": {},
   "outputs": [
    {
     "name": "stdout",
     "output_type": "stream",
     "text": [
      "KNN : 0.8241720823287233 0.0002236368648818333\n",
      "LR : 0.635490383719246 0.00037273443330886725\n",
      "NB : 0.12187735935718258 0.00018745097539605112\n",
      "RF : 0.8602985395291786 4.8389144378367464e-05\n",
      "DTC : 0.88962295360691 0.00025811846591469696\n",
      "bag_LR : 0.6370529513924286 0.00040868955351178936\n",
      "bag_NB : 0.10699148169799774 0.00013313996934731664\n",
      "bag_DTC : 0.9047237143823489 0.00014975965947092046\n",
      "bag_KNN : 0.815749743692473 0.00018953682294534354\n"
     ]
    }
   ],
   "source": [
    "for i in range(len(results)):\n",
    "    print(names[i],':',np.mean(results[i]),np.var(results[i],ddof=1))"
   ]
  },
  {
   "cell_type": "code",
   "execution_count": 27,
   "id": "8b8adc03",
   "metadata": {},
   "outputs": [
    {
     "data": {
      "text/plain": [
       "BaggingClassifier(base_estimator=DecisionTreeClassifier(random_state=1))"
      ]
     },
     "execution_count": 27,
     "metadata": {},
     "output_type": "execute_result"
    }
   ],
   "source": [
    "bag_DTC.fit(x_train,y_train)"
   ]
  },
  {
   "cell_type": "code",
   "execution_count": 28,
   "id": "8f8a7416",
   "metadata": {},
   "outputs": [],
   "source": [
    "y_predict=bag_DTC.predict(x_test)"
   ]
  },
  {
   "cell_type": "code",
   "execution_count": 29,
   "id": "175006a0",
   "metadata": {},
   "outputs": [
    {
     "name": "stdout",
     "output_type": "stream",
     "text": [
      "0.9253314724354501\n"
     ]
    }
   ],
   "source": [
    "print(bag_DTC.score(x_test,y_test))"
   ]
  },
  {
   "cell_type": "code",
   "execution_count": 30,
   "id": "82ba0061",
   "metadata": {},
   "outputs": [
    {
     "data": {
      "text/plain": [
       "array([[ 183,   17,    0,   17],\n",
       "       [  14,  402,    7,   44],\n",
       "       [   1,   37,  277,   47],\n",
       "       [   0,   15,   15, 1790]], dtype=int64)"
      ]
     },
     "execution_count": 30,
     "metadata": {},
     "output_type": "execute_result"
    }
   ],
   "source": [
    "confusion_matrix(y_test,y_predict)"
   ]
  },
  {
   "cell_type": "code",
   "execution_count": 31,
   "id": "f48ad419",
   "metadata": {},
   "outputs": [
    {
     "name": "stdout",
     "output_type": "stream",
     "text": [
      "              precision    recall  f1-score   support\n",
      "\n",
      "           1       0.92      0.84      0.88       217\n",
      "           2       0.85      0.86      0.86       467\n",
      "           3       0.93      0.77      0.84       362\n",
      "           4       0.94      0.98      0.96      1820\n",
      "\n",
      "    accuracy                           0.93      2866\n",
      "   macro avg       0.91      0.86      0.89      2866\n",
      "weighted avg       0.92      0.93      0.92      2866\n",
      "\n"
     ]
    }
   ],
   "source": [
    "print(classification_report(y_test,y_predict))"
   ]
  }
 ],
 "metadata": {
  "kernelspec": {
   "display_name": "Python 3",
   "language": "python",
   "name": "python3"
  },
  "language_info": {
   "codemirror_mode": {
    "name": "ipython",
    "version": 3
   },
   "file_extension": ".py",
   "mimetype": "text/x-python",
   "name": "python",
   "nbconvert_exporter": "python",
   "pygments_lexer": "ipython3",
   "version": "3.8.8"
  }
 },
 "nbformat": 4,
 "nbformat_minor": 5
}
